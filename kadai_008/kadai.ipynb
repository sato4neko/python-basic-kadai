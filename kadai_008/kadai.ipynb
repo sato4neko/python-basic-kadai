{
  "nbformat": 4,
  "nbformat_minor": 0,
  "metadata": {
    "colab": {
      "provenance": []
    },
    "kernelspec": {
      "name": "python3",
      "display_name": "Python 3"
    },
    "language_info": {
      "name": "python"
    }
  },
  "cells": [
    {
      "cell_type": "code",
      "source": [
        "import random\n",
        "\n",
        "var = random.randint(0, 30)\n",
        "\n",
        "if var%3 == 0:\n",
        "    print(\"Fizz\")\n",
        "elif var%5 == 0:\n",
        "    print(\"Buzz\")\n",
        "elif var%15 == 0:\n",
        "    print(\"FizzBuzz\")\n",
        "else:\n",
        "    print(var)"
      ],
      "metadata": {
        "colab": {
          "base_uri": "https://localhost:8080/"
        },
        "id": "ZbUtplhrOKLB",
        "outputId": "6019aad3-7ecc-4657-cf3c-e33cd752813c"
      },
      "execution_count": 10,
      "outputs": [
        {
          "output_type": "stream",
          "name": "stdout",
          "text": [
            "Fizz\n"
          ]
        }
      ]
    }
  ]
}