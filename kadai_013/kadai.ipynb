{
  "nbformat": 4,
  "nbformat_minor": 0,
  "metadata": {
    "colab": {
      "provenance": []
    },
    "kernelspec": {
      "name": "python3",
      "display_name": "Python 3"
    },
    "language_info": {
      "name": "python"
    }
  },
  "cells": [
    {
      "cell_type": "code",
      "source": [
        "def add_tax(price,tax):\n",
        "  add_tax = price * (tax /100)\n",
        "  total = price + add_tax\n",
        "  print(f\"合計金額は{total}円（税込）です\")\n",
        "\n",
        "add_tax(1000,10)"
      ],
      "metadata": {
        "colab": {
          "base_uri": "https://localhost:8080/"
        },
        "id": "5z4Wla0ALpH4",
        "outputId": "db037cf1-957d-4fd8-e40e-195a3f6add99"
      },
      "execution_count": 84,
      "outputs": [
        {
          "output_type": "stream",
          "name": "stdout",
          "text": [
            "合計金額は1100.0円（税込）です\n"
          ]
        }
      ]
    }
  ]
}