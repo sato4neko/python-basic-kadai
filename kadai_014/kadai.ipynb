{
  "nbformat": 4,
  "nbformat_minor": 0,
  "metadata": {
    "colab": {
      "provenance": []
    },
    "kernelspec": {
      "name": "python3",
      "display_name": "Python 3"
    },
    "language_info": {
      "name": "python"
    }
  },
  "cells": [
    {
      "cell_type": "code",
      "source": [
        "tax = 1.1\n",
        "\n",
        "def total():\n",
        "    price1 = 100\n",
        "    price2 = 200\n",
        "    return price1 + price2\n",
        "\n",
        "print (total() * tax)\n"
      ],
      "metadata": {
        "colab": {
          "base_uri": "https://localhost:8080/"
        },
        "id": "5z4Wla0ALpH4",
        "outputId": "a841b2ca-a81e-46f8-a82d-08fc1262d12b"
      },
      "execution_count": 88,
      "outputs": [
        {
          "output_type": "stream",
          "name": "stdout",
          "text": [
            "330.0\n"
          ]
        }
      ]
    }
  ]
}